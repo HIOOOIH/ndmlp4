{
 "cells": [
  {
   "cell_type": "code",
   "execution_count": 1,
   "metadata": {},
   "outputs": [
    {
     "name": "stdout",
     "output_type": "stream",
     "text": [
      "<class 'pandas.core.frame.DataFrame'>\n",
      "RangeIndex: 891 entries, 0 to 890\n",
      "Data columns (total 12 columns):\n",
      "PassengerId    891 non-null int64\n",
      "Survived       891 non-null int64\n",
      "Pclass         891 non-null int64\n",
      "Name           891 non-null object\n",
      "Sex            891 non-null object\n",
      "Age            714 non-null float64\n",
      "SibSp          891 non-null int64\n",
      "Parch          891 non-null int64\n",
      "Ticket         891 non-null object\n",
      "Fare           891 non-null float64\n",
      "Cabin          204 non-null object\n",
      "Embarked       889 non-null object\n",
      "dtypes: float64(2), int64(5), object(5)\n",
      "memory usage: 83.6+ KB\n"
     ]
    }
   ],
   "source": [
    "# -*- coding: UTF-8 -*-\n",
    "%matplotlib inline\n",
    "import numpy as np\n",
    "import pandas as pd\n",
    "import matplotlib.pyplot as plt\n",
    "\n",
    "# 导入数据并设置为df\n",
    "csv = pd.read_csv('Titanic.csv')\n",
    "titanic_df = pd.DataFrame(csv)\n",
    "titanic_df.info()"
   ]
  },
  {
   "cell_type": "markdown",
   "metadata": {},
   "source": [
    "### 提出问题\n",
    "----------------\n",
    "- 首先是<b>分析数据</b>：\n",
    "    - 数据集一共有12个字段：PassengerId、Survived、Pclass、Name、Sex、Age、SibSp、Parch、Ticket、Fare、Cabin、Embarked\n",
    "    - 与生存无关的数据不分析：PassengerId、Name\n",
    "    - 选择相对稳定的Pclass进行分析：Pclass、Parch、Ticket、Fare -> Pclass\n",
    "    - 合并家庭成员：SibSp + Parch = FamilyMember\n",
    "\n",
    "- <b>提出问题：分析Pclass、Sex、Embarked、SibSp + Parch(FamilyMember)、Age这几个因素，是否对成功获救有影响？</b>"
   ]
  },
  {
   "cell_type": "markdown",
   "metadata": {},
   "source": [
    "### 数据清理\n",
    "----------------\n",
    "- 后续分析不需要，不作处理：Cabin\n",
    "- 后续分析需要，进行缺失值处理：Age 和 Embarked\n",
    "    - 用平均值填充Age\n",
    "    - 舍弃Embarked 缺失值"
   ]
  },
  {
   "cell_type": "code",
   "execution_count": 15,
   "metadata": {
    "scrolled": true
   },
   "outputs": [],
   "source": [
    "changed_df = titanic_df.copy()\n",
    "\n",
    "changed_df['Age'].fillna(changed_df['Age'].mean(),inplace=True)\n",
    "\n",
    "changed_df.dropna(subset=[\"Embarked\"], inplace=True)\n",
    "changed_df = changed_df.dropna(subset=[\"Embarked\"])"
   ]
  },
  {
   "cell_type": "markdown",
   "metadata": {},
   "source": [
    "### 探索分析\n",
    "---------------"
   ]
  },
  {
   "cell_type": "code",
   "execution_count": 6,
   "metadata": {},
   "outputs": [],
   "source": [
    "def factor_explore(factor):\n",
    "    factor_survived = changed_df[[factor, 'Survived']].groupby([factor]).mean()\n",
    "    factor_survived.plot(kind='bar')\n",
    "    plt.title(factor + ' VS Survial Rate')\n",
    "    plt.ylabel(factor + ' Rate')"
   ]
  },
  {
   "cell_type": "code",
   "execution_count": 7,
   "metadata": {},
   "outputs": [
    {
     "data": {
      "image/png": "[encoded data removed]",
      "text/plain": [
       "<matplotlib.figure.Figure at 0xd791198>"
      ]
     },
     "metadata": {},
     "output_type": "display_data"
    }
   ],
   "source": [
    "# 舱位等级\n",
    "factor_explore('Pclass')"
   ]
  },
  {
   "cell_type": "markdown",
   "metadata": {},
   "source": [
    "> 分析Pclass的条形图可以看出，Pclass为1的柱状最高，Rate超过0.6，其次是Pclass为2的柱状，Rate在0.4~0.5，最后是Pclass为3的柱状，Rate为0.2~0.3。\n",
    "<br/>**得出结论：一等舱的获救率最高，其次是二等舱，最后是三等舱。**"
   ]
  },
  {
   "cell_type": "code",
   "execution_count": 8,
   "metadata": {},
   "outputs": [
    {
     "data": {
      "image/png": "[encoded data removed]",
      "text/plain": [
       "<matplotlib.figure.Figure at 0xd6f6da0>"
      ]
     },
     "metadata": {},
     "output_type": "display_data"
    }
   ],
   "source": [
    "# 性别\n",
    "factor_explore('Sex')"
   ]
  },
  {
   "cell_type": "code",
   "execution_count": 11,
   "metadata": {},
   "outputs": [
    {
     "data": {
      "text/plain": [
       "Sex\n",
       "female    314\n",
       "male      577\n",
       "dtype: int64"
      ]
     },
     "execution_count": 11,
     "metadata": {},
     "output_type": "execute_result"
    }
   ],
   "source": [
    "# 性别的比例\n",
    "sex_count = changed_df[['Sex','Survived']].groupby(['Sex']).size()\n",
    "sex_count"
   ]
  },
  {
   "cell_type": "markdown",
   "metadata": {},
   "source": [
    "> 分析Sex的条形图可以看出，female的Rate超过了0.7，而male的Rate在0.2左右。并且数据的样本是女性比男性少，不存在样本中女性人数比男性多，占比大的情况。\n",
    "<br/>**得出结论：女性获救率比男性要高。**"
   ]
  },
  {
   "cell_type": "code",
   "execution_count": 16,
   "metadata": {},
   "outputs": [
    {
     "data": {
      "image/png": "[encoded data removed]",
      "text/plain": [
       "<matplotlib.figure.Figure at 0x10c37550>"
      ]
     },
     "metadata": {},
     "output_type": "display_data"
    }
   ],
   "source": [
    "# 港口 \n",
    "factor_explore('Embarked')"
   ]
  },
  {
   "cell_type": "markdown",
   "metadata": {},
   "source": [
    ">分析Embarked的条形图可以看出，C口的Rate最高，超过0.5，Q比S稍高一点，不过它们的Rate都在0.3~0.4之间。\n",
    "<br/>**得出结论：C口上船的人获救率最高。**"
   ]
  },
  {
   "cell_type": "code",
   "execution_count": 10,
   "metadata": {},
   "outputs": [
    {
     "data": {
      "image/png": "[encoded data removed]",
      "text/plain": [
       "<matplotlib.figure.Figure at 0x106dc128>"
      ]
     },
     "metadata": {},
     "output_type": "display_data"
    }
   ],
   "source": [
    "# 家庭成员\n",
    "changed_df['FamilyMember'] = changed_df['SibSp'] + changed_df['Parch'] + 1\n",
    "\n",
    "factor_explore('FamilyMember')\n"
   ]
  },
  {
   "cell_type": "markdown",
   "metadata": {},
   "source": [
    ">分析FamilyMember的条形图可以看出，1的Rate在0.3左右；2和3的Rate都不到0.6；4的Rate超过了0.7，为最高值；5和6的Rate都不到0.2,其中6是最低的；7的Rate在0.3~0.4之间。\n",
    "<br/>**得出结论：4口之家获救率最高，最低的是6口人。** "
   ]
  },
  {
   "cell_type": "code",
   "execution_count": 20,
   "metadata": {},
   "outputs": [
    {
     "data": {
      "text/plain": [
       "Text(0.5,0,u'Age')"
      ]
     },
     "execution_count": 20,
     "metadata": {},
     "output_type": "execute_result"
    },
    {
     "data": {
      "image/png": "[encoded data removed]",
      "text/plain": [
       "<matplotlib.figure.Figure at 0x116be080>"
      ]
     },
     "metadata": {},
     "output_type": "display_data"
    }
   ],
   "source": [
    "# 年龄\n",
    "changed_df['Age'].hist()\n",
    "plt.title('Age Distribution')\n",
    "plt.ylabel('Frequency')\n",
    "plt.xlabel('Age')"
   ]
  },
  {
   "cell_type": "markdown",
   "metadata": {},
   "source": [
    "> 分析Age的直方图可以看出图是右偏态分布的，峰值在25~31的年龄分布中频率最高。\n",
    "<br/>**得出结论：25~31岁左右的人获救率最高。**"
   ]
  },
  {
   "cell_type": "markdown",
   "metadata": {},
   "source": [
    "#### 补充\n",
    "---------------"
   ]
  },
  {
   "cell_type": "code",
   "execution_count": 10,
   "metadata": {},
   "outputs": [
    {
     "name": "stdout",
     "output_type": "stream",
     "text": [
      "Survived\n",
      "0    549\n",
      "1    342\n",
      "Name: Survived, dtype: int64\n"
     ]
    },
    {
     "data": {
      "image/png": "[encoded data removed]",
      "text/plain": [
       "<matplotlib.figure.Figure at 0xd5084a8>"
      ]
     },
     "metadata": {},
     "output_type": "display_data"
    }
   ],
   "source": [
    "# 幸存者与死亡者的比例\n",
    "Survived_count =  changed_df.groupby('Survived')['Survived'].count()\n",
    "print (Survived_count)\n",
    "plt.pie(Survived_count, labels=['Non-survived','Survived'], autopct='%.1f%%')"
   ]
  },
  {
   "cell_type": "markdown",
   "metadata": {},
   "source": [
    "> 从上面的饼图可以看出，未获救的人比获救的人多。"
   ]
  },
  {
   "cell_type": "markdown",
   "metadata": {},
   "source": [
    "### 结论总结\n",
    "---------------"
   ]
  },
  {
   "cell_type": "markdown",
   "metadata": {},
   "source": [
    "- Pclass中一等舱获救人数最多，Sex中女性比男性获救率高，Embarked中C口上船的人获救率最高，SibSp + Parch(FamilyMember)中4口人获救率最高，Age中25~31岁获救率最高。\n",
    "\n",
    "---------------\n",
    "<b>当前分析结果的限制</b>\n",
    "- 报告中使用的数据不是全部乘客数,只有891个样本，可能会存在偏差，分析只对当前891个数据准确，如果增大样本量，分析结果会有变动，但对结果影响不大。\n",
    "- 对缺失值的处理会带入偏差和不确定性，因为已经舍弃或者添加了平均值。\n",
    "- 有可能影响存活率的因素还可能有：体重，眼睛视力等。\n"
   ]
  }
 ],
 "metadata": {
  "kernelspec": {
   "display_name": "Python 2",
   "language": "python",
   "name": "python2"
  },
  "language_info": {
   "codemirror_mode": {
    "name": "ipython",
    "version": 2
   },
   "file_extension": ".py",
   "mimetype": "text/x-python",
   "name": "python",
   "nbconvert_exporter": "python",
   "pygments_lexer": "ipython2",
   "version": "2.7.14"
  }
 },
 "nbformat": 4,
 "nbformat_minor": 2
}
